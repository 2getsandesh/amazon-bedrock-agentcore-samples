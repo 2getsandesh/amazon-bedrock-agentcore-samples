{
 "cells": [
  {
   "cell_type": "markdown",
   "id": "78db5167",
   "metadata": {},
   "source": [
    "## Setting up Orchestrator Agent A2A\n",
    "\n",
    "In the previous module, we've launched two agents, using AgentCore Runtime, that supports A2A invocations.\n",
    "\n",
    "In this lab, we're going to add an orchestrator, that will invoke our sub-agents.\n",
    "\n",
    "<img src=\"images/architecture.png\" style=\"width: 80%;\">\n",
    "\n",
    "So let's get started!"
   ]
  },
  {
   "cell_type": "markdown",
   "id": "5638a3b7",
   "metadata": {
    "vscode": {
     "languageId": "plaintext"
    }
   },
   "source": [
    "### Setup\n",
    "\n",
    "Import required dependencies"
   ]
  },
  {
   "cell_type": "code",
   "execution_count": null,
   "id": "4ed78008",
   "metadata": {},
   "outputs": [],
   "source": [
    "# Import libraries\n",
    "import os\n",
    "import json\n",
    "import requests\n",
    "import boto3\n",
    "from boto3.session import Session\n",
    "from strands.tools import tool\n",
    "\n",
    "# Get boto session\n",
    "boto_session = Session()\n",
    "region = boto_session.region_name"
   ]
  },
  {
   "cell_type": "markdown",
   "id": "587edeac",
   "metadata": {},
   "source": [
    "Retrieve information from previous LABs, so we can use it during this one."
   ]
  },
  {
   "cell_type": "code",
   "execution_count": null,
   "id": "16733ee7",
   "metadata": {},
   "outputs": [],
   "source": [
    "%store -r"
   ]
  },
  {
   "cell_type": "markdown",
   "id": "ee3759e4",
   "metadata": {},
   "source": [
    "### 1 - Create Code for the orchestrator agent\n",
    "\n",
    "Let's generate Python code that will be used for our orchestrator, and lately will be deployed in AgentCore."
   ]
  },
  {
   "cell_type": "code",
   "execution_count": null,
   "id": "eafd71b6",
   "metadata": {},
   "outputs": [],
   "source": [
    "%%writefile agents/orchestrator.py\n",
    "import logging\n",
    "import json\n",
    "import base64\n",
    "import hmac\n",
    "import hashlib\n",
    "\n",
    "from boto3.session import Session\n",
    "from uuid import uuid4\n",
    "from urllib.parse import quote\n",
    "\n",
    "import httpx\n",
    "from a2a.client import A2ACardResolver, ClientConfig, ClientFactory\n",
    "from a2a.types import Message, Part, Role, TextPart\n",
    "\n",
    "from helpers.utils import get_cognito_secret, reauthenticate_user, get_ssm_parameter, SSM_DOCS_AGENT_ARN, SSM_BLOGS_AGENT_ARN\n",
    "\n",
    "from strands import Agent, tool\n",
    "from bedrock_agentcore.runtime import BedrockAgentCoreApp\n",
    "from fastapi import HTTPException\n",
    "\n",
    "\n",
    "logging.basicConfig(level=logging.INFO)\n",
    "logger = logging.getLogger(__name__)\n",
    "DEFAULT_TIMEOUT = 300  # set request timeout to 5 minutes\n",
    "username = \"testuser\"\n",
    "MCP_AGENT_ARN = get_ssm_parameter(SSM_DOCS_AGENT_ARN)\n",
    "BLOG_AGENT_ARN = get_ssm_parameter(SSM_BLOGS_AGENT_ARN)\n",
    "boto_session = Session()\n",
    "region = boto_session.region_name\n",
    "\n",
    "\n",
    "app = BedrockAgentCoreApp()\n",
    "\n",
    "\n",
    "def create_message(*, role: Role = Role.user, text: str) -> Message:\n",
    "    return Message(\n",
    "        kind=\"message\",\n",
    "        role=role,\n",
    "        parts=[Part(TextPart(kind=\"text\", text=text))],\n",
    "        message_id=uuid4().hex,\n",
    "    )\n",
    "\n",
    "async def send_sync_message(message: str, agent_arn: str):\n",
    "    escaped_agent_arn = quote(agent_arn, safe='')\n",
    "    runtime_url = f\"https://bedrock-agentcore.{region}.amazonaws.com/runtimes/{escaped_agent_arn}/invocations/\"\n",
    "    \n",
    "    session_id = str(uuid4())\n",
    "    secret = json.loads(get_cognito_secret())\n",
    "    bearer_token = reauthenticate_user(secret.get(\"client_id\"), secret.get(\"client_secret\"))\n",
    "    \n",
    "    headers = {\n",
    "        \"Authorization\": f\"Bearer {bearer_token}\",\n",
    "        'X-Amzn-Bedrock-AgentCore-Runtime-Session-Id': session_id\n",
    "    }\n",
    "        \n",
    "    async with httpx.AsyncClient(timeout=DEFAULT_TIMEOUT, headers=headers) as httpx_client:\n",
    "        resolver = A2ACardResolver(httpx_client=httpx_client, base_url=runtime_url)\n",
    "        agent_card = await resolver.get_agent_card()\n",
    "\n",
    "        config = ClientConfig(httpx_client=httpx_client, streaming=False)\n",
    "        factory = ClientFactory(config)\n",
    "        client = factory.create(agent_card)\n",
    "\n",
    "        msg = create_message(text=message)\n",
    "\n",
    "        async for event in client.send_message(msg):\n",
    "            if isinstance(event, Message):\n",
    "                return event\n",
    "            elif isinstance(event, tuple) and len(event) == 2:\n",
    "                return event[0]\n",
    "            else:\n",
    "                return event\n",
    "\n",
    "@tool\n",
    "async def send_mcp_message(message: str):\n",
    "    return await send_sync_message(message, MCP_AGENT_ARN)\n",
    "\n",
    "\n",
    "@tool\n",
    "async def send_blog_message(message: str):\n",
    "    return await send_sync_message(message, BLOG_AGENT_ARN)\n",
    "\n",
    "\n",
    "system_prompt = \"\"\"You are an orchestrator, that will invoke other agents to get information about:\n",
    "\n",
    "- AWS Documentation: Most recent data on AWS docs, from AWS Docs MCP\n",
    "- AWS Blogs and News: Agent that query in the web for latest AWS Blogs and news\n",
    "\n",
    "Key capabilities:\n",
    "- Search and retrieve information from AWS service documentation on AWS Documentation Tool\n",
    "- Search and retrieve information from AWS Blogs and News if asked for a specific subject\n",
    "\n",
    "Considerations:\n",
    "\n",
    "- all your queries should be summarized and optimized\n",
    "- ask underlying agents/tools to summarize and shorten answers\n",
    "- If you're unsure about something, clearly state your limitations\n",
    "- Try to simplify/summarize answers to make it faster, small and objective\n",
    "\n",
    "\"\"\"\n",
    "\n",
    "agent = Agent(system_prompt=system_prompt, \n",
    "              tools=[send_mcp_message, send_blog_message],\n",
    "              name=\"AWS Orchestration Agent\",\n",
    "              description=\"An agent to orchestrate sub-agents\")\n",
    "\n",
    "@app.entrypoint\n",
    "async def invoke_agent(payload, context):\n",
    "    logger.info(\"Received invocation request\")\n",
    "\n",
    "    logger.info(f\"Payload: {payload}\")\n",
    "    logger.info(f\"Context: {context}\")\n",
    "    try:\n",
    "\n",
    "        # Extract user prompt\n",
    "        user_prompt = payload.get(\"prompt\", \"\")\n",
    "        if not user_prompt:\n",
    "            raise HTTPException(\n",
    "                status_code=400,\n",
    "                detail=\"No prompt found in input. Please provide a 'prompt' key in the input.\",\n",
    "            )\n",
    "        \n",
    "        session_id = context.session_id\n",
    "        \n",
    "        logger.info(f\"Processing query: {user_prompt}\")\n",
    "\n",
    "        # Get the agent stream\n",
    "        agent_stream = agent.stream_async(user_prompt)\n",
    "\n",
    "        async for event in agent_stream:\n",
    "            yield event\n",
    "\n",
    "    except HTTPException:\n",
    "        raise\n",
    "    except Exception as e:\n",
    "        logger.error(f\"Agent processing failed: {e}\")\n",
    "        logger.exception(\"Full exception details:\")\n",
    "        raise HTTPException(\n",
    "            status_code=500, detail=f\"Agent processing failed: {str(e)}\"\n",
    "        )\n",
    "\n",
    "if __name__ == \"__main__\":\n",
    "    app.run()"
   ]
  },
  {
   "cell_type": "markdown",
   "id": "d5fc7164",
   "metadata": {},
   "source": [
    "#### 1.1 - Create IAM Role for the Agent"
   ]
  },
  {
   "cell_type": "code",
   "execution_count": null,
   "id": "b95d5040",
   "metadata": {},
   "outputs": [],
   "source": [
    "from helpers.utils import create_agentcore_runtime_execution_role, ORCHESTRATOR_ROLE_NAME\n",
    "\n",
    "agent_name=\"aws_orchestrator_assistant\"\n",
    "\n",
    "execution_role_arn = create_agentcore_runtime_execution_role(ORCHESTRATOR_ROLE_NAME)"
   ]
  },
  {
   "cell_type": "markdown",
   "id": "dda492c3",
   "metadata": {},
   "source": [
    "### 2 - Deploy to AgentCore Runtime\n",
    "\n",
    "Now, let's deploy the orchestrator in the AgentCore Runtime.\n",
    "\n",
    "Note that in this example, we're not adding `protocol` parameter. Which means that this will be a HTTP agent."
   ]
  },
  {
   "cell_type": "code",
   "execution_count": null,
   "id": "e49d3dfb",
   "metadata": {},
   "outputs": [],
   "source": [
    "from bedrock_agentcore_starter_toolkit import Runtime\n",
    "\n",
    "agentcore_runtime = Runtime()\n",
    "\n",
    "# Configure the deployment\n",
    "response = agentcore_runtime.configure(\n",
    "    entrypoint=\"agents/orchestrator.py\",\n",
    "    execution_role=execution_role_arn,\n",
    "    auto_create_ecr=True,\n",
    "    requirements_file=\"agents/requirements.txt\",\n",
    "    region=region,\n",
    "    agent_name=agent_name,\n",
    "    authorizer_configuration={\n",
    "        \"customJWTAuthorizer\": {\n",
    "            \"allowedClients\": [COGNITO_CLIENT_ID],\n",
    "            \"discoveryUrl\": DISCOVERY_URL,\n",
    "        }\n",
    "    },\n",
    ")\n",
    "\n",
    "print(\"Configuration completed:\", response)"
   ]
  },
  {
   "cell_type": "code",
   "execution_count": null,
   "id": "02329c79",
   "metadata": {},
   "outputs": [],
   "source": [
    "launch_result = agentcore_runtime.launch()\n",
    "print(\"Launch completed:\", launch_result.agent_arn)\n",
    "\n",
    "agent_arn = launch_result.agent_arn"
   ]
  },
  {
   "cell_type": "markdown",
   "id": "84b32515",
   "metadata": {},
   "source": [
    "**Check Deployment Status**\n",
    "\n",
    "Let's check if deployment is completed:"
   ]
  },
  {
   "cell_type": "code",
   "execution_count": null,
   "id": "5b191757",
   "metadata": {},
   "outputs": [],
   "source": [
    "import time\n",
    "\n",
    "# Wait for the agent to be ready\n",
    "status_response = agentcore_runtime.status()\n",
    "status = status_response.endpoint[\"status\"]\n",
    "\n",
    "end_status = [\"READY\", \"CREATE_FAILED\", \"DELETE_FAILED\", \"UPDATE_FAILED\"]\n",
    "while status not in end_status:\n",
    "    print(f\"Waiting for deployment... Current status: {status}\")\n",
    "    time.sleep(10)\n",
    "    status_response = agentcore_runtime.status()\n",
    "    status = status_response.endpoint[\"status\"]\n",
    "\n",
    "print(f\"Final status: {status}\")"
   ]
  },
  {
   "cell_type": "markdown",
   "id": "f41d1ad3",
   "metadata": {},
   "source": [
    "#### 2.1 - Export and save outputs\n",
    "\n",
    "Export variables to be used in clean up notebook:"
   ]
  },
  {
   "cell_type": "code",
   "execution_count": null,
   "id": "a15a126b",
   "metadata": {},
   "outputs": [],
   "source": [
    "ORCHESTRATION_ID = launch_result.agent_id\n",
    "ORCHESTRATION_ARN = launch_result.agent_arn\n",
    "ORCHESTRATION_NAME = agent_name\n",
    "\n",
    "%store ORCHESTRATION_ID\n",
    "%store ORCHESTRATION_ARN\n",
    "%store ORCHESTRATION_NAME"
   ]
  },
  {
   "cell_type": "markdown",
   "id": "e48ec4fb",
   "metadata": {},
   "source": [
    "### 3 - Invoking A2A agents using an orchestrator agent\n",
    "\n",
    "Firstly, let's refresh the auth token:"
   ]
  },
  {
   "cell_type": "code",
   "execution_count": null,
   "id": "03f8fb99",
   "metadata": {},
   "outputs": [],
   "source": [
    "from helpers.utils import reauthenticate_user\n",
    "\n",
    "bearer_token = reauthenticate_user(\n",
    "    COGNITO_CLIENT_ID,\n",
    "    COGNITO_SECRET\n",
    ")"
   ]
  },
  {
   "cell_type": "markdown",
   "id": "e0d87dff",
   "metadata": {},
   "source": [
    "Now, let's invoke our orchestrator to check AWS Docs, making a call to our first agent, using A2A:"
   ]
  },
  {
   "cell_type": "code",
   "execution_count": null,
   "id": "db449965",
   "metadata": {},
   "outputs": [],
   "source": [
    "import requests\n",
    "import json\n",
    "import uuid\n",
    "from urllib.parse import quote\n",
    "\n",
    "headers = {\n",
    "    'Authorization': f'Bearer {bearer_token}',\n",
    "    'Content-Type': 'application/json',\n",
    "    'Accept': 'application/json',\n",
    "    'X-Amzn-Bedrock-AgentCore-Runtime-Session-Id': str(uuid.uuid4())\n",
    "}\n",
    "\n",
    "prompt = {\"prompt\": \"What is DynamoDB?\"}\n",
    "\n",
    "escaped_agent_arn = quote(ORCHESTRATION_ARN, safe='')\n",
    "\n",
    "response = requests.post(\n",
    "    f'https://bedrock-agentcore.{region}.amazonaws.com/runtimes/{escaped_agent_arn}/invocations',\n",
    "    headers=headers,\n",
    "    data=json.dumps(prompt)\n",
    ")\n",
    "\n",
    "for line in response.iter_lines(decode_unicode=True):\n",
    "    if line.startswith('data: '):\n",
    "        data = line[6:]\n",
    "        try:\n",
    "            parsed = json.loads(data)\n",
    "            print(parsed)\n",
    "        except:\n",
    "            print(data)"
   ]
  },
  {
   "cell_type": "code",
   "execution_count": null,
   "id": "8b855082",
   "metadata": {},
   "outputs": [],
   "source": [
    "import uuid\n",
    "\n",
    "headers = {\n",
    "    'Authorization': f'Bearer {bearer_token}',\n",
    "    'Content-Type': 'application/json',\n",
    "    'Accept': 'application/json',\n",
    "    'X-Amzn-Bedrock-AgentCore-Runtime-Session-Id': str(uuid.uuid4())\n",
    "}\n",
    "\n",
    "prompt = {\"prompt\": \"Give me the latest published blog for Bedrock AgentCore?\"}\n",
    "\n",
    "escaped_agent_arn = quote(ORCHESTRATION_ARN, safe='')\n",
    "\n",
    "response = requests.post(\n",
    "    f'https://bedrock-agentcore.{region}.amazonaws.com/runtimes/{escaped_agent_arn}/invocations',\n",
    "    headers=headers,\n",
    "    data=json.dumps(prompt)\n",
    ")\n",
    "\n",
    "for line in response.iter_lines(decode_unicode=True):\n",
    "    if line.startswith('data: '):\n",
    "        data = line[6:]\n",
    "        try:\n",
    "            parsed = json.loads(data)\n",
    "            print(parsed)\n",
    "        except:\n",
    "            print(data)"
   ]
  },
  {
   "cell_type": "markdown",
   "id": "e5356ae0",
   "metadata": {},
   "source": [
    "Congratulations, you have deployed the complete solution, using A2A protocol on Amazon AgentCore Runtime."
   ]
  }
 ],
 "metadata": {
  "kernelspec": {
   "display_name": ".env (3.13.7)",
   "language": "python",
   "name": "python3"
  },
  "language_info": {
   "codemirror_mode": {
    "name": "ipython",
    "version": 3
   },
   "file_extension": ".py",
   "mimetype": "text/x-python",
   "name": "python",
   "nbconvert_exporter": "python",
   "pygments_lexer": "ipython3",
   "version": "3.13.7"
  }
 },
 "nbformat": 4,
 "nbformat_minor": 5
}
